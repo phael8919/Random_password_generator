{
  "nbformat": 4,
  "nbformat_minor": 0,
  "metadata": {
    "colab": {
      "provenance": [],
      "authorship_tag": "ABX9TyODreTrSwYrCDuUNDEuVM9K",
      "include_colab_link": true
    },
    "kernelspec": {
      "name": "python3",
      "display_name": "Python 3"
    },
    "language_info": {
      "name": "python"
    }
  },
  "cells": [
    {
      "cell_type": "markdown",
      "metadata": {
        "id": "view-in-github",
        "colab_type": "text"
      },
      "source": [
        "<a href=\"https://colab.research.google.com/github/phael8919/Random_password_generator/blob/main/Password_Generator_pynb.ipynb\" target=\"_parent\"><img src=\"https://colab.research.google.com/assets/colab-badge.svg\" alt=\"Open In Colab\"/></a>"
      ]
    },
    {
      "cell_type": "code",
      "execution_count": 3,
      "metadata": {
        "id": "CWz8i7YgudRp"
      },
      "outputs": [],
      "source": [
        "def password_generator():\n",
        "  import random as rd\n",
        "\n",
        "  characters = ['0', '1', '2', '3', '4', '5', '6', '7', '8', '9', '#', '$', '%', '&', '*', '+',\n",
        "                '-', '.', '*', '=', 'a', 'b', 'c', 'd', 'e', 'f', 'g', 'h', 'i', 'j', 'l', 'm',\n",
        "                'n', 'o', 'p', 'q', 'r', 's', 'u', 'v', 't', 'm', 'n', 'z', 'x']\n",
        "\n",
        "  num_list = int(len(characters)+1)\n",
        "\n",
        "  num_char = int(input(\"Write the number of characters: \"))\n",
        "\n",
        "  i = 0\n",
        "\n",
        "  n_list = []\n",
        "\n",
        "  while i < num_char:\n",
        "    n_list.append(characters[rd.randint(0,num_list)])\n",
        "    i+=1\n",
        "\n",
        "  password = \",\".join(n_list)\n",
        "\n",
        "  print(\"\\nYour Password:\",password.replace(\",\",\"\"))"
      ]
    },
    {
      "cell_type": "code",
      "source": [
        "password_generator()"
      ],
      "metadata": {
        "colab": {
          "base_uri": "https://localhost:8080/"
        },
        "id": "Z-IDxbPt6Qdd",
        "outputId": "5b44985b-ec0c-4c5b-d73a-392e13efae71"
      },
      "execution_count": 4,
      "outputs": [
        {
          "output_type": "stream",
          "name": "stdout",
          "text": [
            "Write the number of characters: 12\n",
            "\n",
            "Your Password: f2rpiz-t=.xx\n"
          ]
        }
      ]
    }
  ]
}